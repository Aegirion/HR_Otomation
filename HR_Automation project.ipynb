{
 "cells": [
  {
   "cell_type": "code",
   "execution_count": 2,
   "id": "c654e29f",
   "metadata": {},
   "outputs": [
    {
     "data": {
      "text/html": [
       "<div>\n",
       "<style scoped>\n",
       "    .dataframe tbody tr th:only-of-type {\n",
       "        vertical-align: middle;\n",
       "    }\n",
       "\n",
       "    .dataframe tbody tr th {\n",
       "        vertical-align: top;\n",
       "    }\n",
       "\n",
       "    .dataframe thead th {\n",
       "        text-align: right;\n",
       "    }\n",
       "</style>\n",
       "<table border=\"1\" class=\"dataframe\">\n",
       "  <thead>\n",
       "    <tr style=\"text-align: right;\">\n",
       "      <th></th>\n",
       "      <th>Deneyim Yili</th>\n",
       "      <th>SuanCalisiyor?</th>\n",
       "      <th>Eski Calistigi Firmalar</th>\n",
       "      <th>Egitim Seviyesi</th>\n",
       "      <th>Top10 Universite?</th>\n",
       "      <th>StajBizdeYaptimi?</th>\n",
       "      <th>IseAlindi</th>\n",
       "    </tr>\n",
       "  </thead>\n",
       "  <tbody>\n",
       "    <tr>\n",
       "      <th>0</th>\n",
       "      <td>11</td>\n",
       "      <td>Y</td>\n",
       "      <td>4</td>\n",
       "      <td>BS</td>\n",
       "      <td>N</td>\n",
       "      <td>N</td>\n",
       "      <td>Y</td>\n",
       "    </tr>\n",
       "    <tr>\n",
       "      <th>1</th>\n",
       "      <td>0</td>\n",
       "      <td>N</td>\n",
       "      <td>0</td>\n",
       "      <td>PhD</td>\n",
       "      <td>Y</td>\n",
       "      <td>Y</td>\n",
       "      <td>Y</td>\n",
       "    </tr>\n",
       "    <tr>\n",
       "      <th>2</th>\n",
       "      <td>5</td>\n",
       "      <td>Y</td>\n",
       "      <td>2</td>\n",
       "      <td>MS</td>\n",
       "      <td>N</td>\n",
       "      <td>Y</td>\n",
       "      <td>Y</td>\n",
       "    </tr>\n",
       "    <tr>\n",
       "      <th>3</th>\n",
       "      <td>3</td>\n",
       "      <td>N</td>\n",
       "      <td>1</td>\n",
       "      <td>BS</td>\n",
       "      <td>N</td>\n",
       "      <td>Y</td>\n",
       "      <td>Y</td>\n",
       "    </tr>\n",
       "    <tr>\n",
       "      <th>4</th>\n",
       "      <td>0</td>\n",
       "      <td>N</td>\n",
       "      <td>0</td>\n",
       "      <td>BS</td>\n",
       "      <td>N</td>\n",
       "      <td>N</td>\n",
       "      <td>N</td>\n",
       "    </tr>\n",
       "  </tbody>\n",
       "</table>\n",
       "</div>"
      ],
      "text/plain": [
       "   Deneyim Yili SuanCalisiyor?  Eski Calistigi Firmalar Egitim Seviyesi  \\\n",
       "0            11              Y                        4              BS   \n",
       "1             0              N                        0             PhD   \n",
       "2             5              Y                        2              MS   \n",
       "3             3              N                        1              BS   \n",
       "4             0              N                        0              BS   \n",
       "\n",
       "  Top10 Universite? StajBizdeYaptimi? IseAlindi  \n",
       "0                 N                 N         Y  \n",
       "1                 Y                 Y         Y  \n",
       "2                 N                 Y         Y  \n",
       "3                 N                 Y         Y  \n",
       "4                 N                 N         N  "
      ]
     },
     "execution_count": 2,
     "metadata": {},
     "output_type": "execute_result"
    }
   ],
   "source": [
    "import numpy as np\n",
    "import pandas as pd\n",
    "from sklearn import tree\n",
    "\n",
    "df = pd.read_csv(\"veriseti.csv\")  #datasetinizi ekleyin\n",
    "df.head()"
   ]
  },
  {
   "cell_type": "markdown",
   "id": "2b947a05",
   "metadata": {},
   "source": [
    "# Aşağıda sizin tablonuzun sütunlarını sırasıyla ekleyin"
   ]
  },
  {
   "cell_type": "code",
   "execution_count": 3,
   "id": "56f247e7",
   "metadata": {},
   "outputs": [
    {
     "data": {
      "text/html": [
       "<div>\n",
       "<style scoped>\n",
       "    .dataframe tbody tr th:only-of-type {\n",
       "        vertical-align: middle;\n",
       "    }\n",
       "\n",
       "    .dataframe tbody tr th {\n",
       "        vertical-align: top;\n",
       "    }\n",
       "\n",
       "    .dataframe thead th {\n",
       "        text-align: right;\n",
       "    }\n",
       "</style>\n",
       "<table border=\"1\" class=\"dataframe\">\n",
       "  <thead>\n",
       "    <tr style=\"text-align: right;\">\n",
       "      <th></th>\n",
       "      <th>Deneyim Yili</th>\n",
       "      <th>SuanCalisiyor?</th>\n",
       "      <th>Eski Calistigi Firmalar</th>\n",
       "      <th>Egitim Seviyesi</th>\n",
       "      <th>Top10 Universite?</th>\n",
       "      <th>StajBizdeYaptimi?</th>\n",
       "      <th>IseAlindi</th>\n",
       "    </tr>\n",
       "  </thead>\n",
       "  <tbody>\n",
       "    <tr>\n",
       "      <th>0</th>\n",
       "      <td>11</td>\n",
       "      <td>1</td>\n",
       "      <td>4</td>\n",
       "      <td>0</td>\n",
       "      <td>0</td>\n",
       "      <td>0</td>\n",
       "      <td>1</td>\n",
       "    </tr>\n",
       "    <tr>\n",
       "      <th>1</th>\n",
       "      <td>0</td>\n",
       "      <td>0</td>\n",
       "      <td>0</td>\n",
       "      <td>2</td>\n",
       "      <td>1</td>\n",
       "      <td>1</td>\n",
       "      <td>1</td>\n",
       "    </tr>\n",
       "    <tr>\n",
       "      <th>2</th>\n",
       "      <td>5</td>\n",
       "      <td>1</td>\n",
       "      <td>2</td>\n",
       "      <td>1</td>\n",
       "      <td>0</td>\n",
       "      <td>1</td>\n",
       "      <td>1</td>\n",
       "    </tr>\n",
       "    <tr>\n",
       "      <th>3</th>\n",
       "      <td>3</td>\n",
       "      <td>0</td>\n",
       "      <td>1</td>\n",
       "      <td>0</td>\n",
       "      <td>0</td>\n",
       "      <td>1</td>\n",
       "      <td>1</td>\n",
       "    </tr>\n",
       "    <tr>\n",
       "      <th>4</th>\n",
       "      <td>0</td>\n",
       "      <td>0</td>\n",
       "      <td>0</td>\n",
       "      <td>0</td>\n",
       "      <td>0</td>\n",
       "      <td>0</td>\n",
       "      <td>0</td>\n",
       "    </tr>\n",
       "  </tbody>\n",
       "</table>\n",
       "</div>"
      ],
      "text/plain": [
       "   Deneyim Yili  SuanCalisiyor?  Eski Calistigi Firmalar  Egitim Seviyesi  \\\n",
       "0            11               1                        4                0   \n",
       "1             0               0                        0                2   \n",
       "2             5               1                        2                1   \n",
       "3             3               0                        1                0   \n",
       "4             0               0                        0                0   \n",
       "\n",
       "   Top10 Universite?  StajBizdeYaptimi?  IseAlindi  \n",
       "0                  0                  0          1  \n",
       "1                  1                  1          1  \n",
       "2                  0                  1          1  \n",
       "3                  0                  1          1  \n",
       "4                  0                  0          0  "
      ]
     },
     "execution_count": 3,
     "metadata": {},
     "output_type": "execute_result"
    }
   ],
   "source": [
    "dztlm_mapping = {'Y': 1, 'N': 0}\n",
    "\n",
    "df['Sütun1'] = df['Sütun1'].map(dztlm_mapping)\n",
    "df['Sütun2'] = df['Sütun2'].map(dztlm_mapping)\n",
    "df['Sütun3'] = df['Sütun3'].map(dztlm_mapping)\n",
    "df['Sütun4'] = df['Sütun4'].map(dztlm_mapping)\n",
    "dztlm_mapping_egitim = {'Ör1': 0, 'Ör2': 1, 'Ör3': 2}  #sütunlardaki sözel değerlerin karşılığı olacak sayısal değerleri giriniz\n",
    "df['Egitim Seviyesi'] = df['Egitim Seviyesi'].map(dztlm_mapping_egitim)\n",
    "df.head()"
   ]
  },
  {
   "cell_type": "markdown",
   "id": "f0b482f2",
   "metadata": {},
   "source": [
    "# Aşağıda sonuç satırını yazın"
   ]
  },
  {
   "cell_type": "code",
   "execution_count": 4,
   "id": "f958486b",
   "metadata": {},
   "outputs": [],
   "source": [
    "y = df[\"Sonuç satırı\"]\n",
    "x = df.drop([\"Sonuç satırı\"], axis=1)\n",
    "x = x.fillna(0) "
   ]
  },
  {
   "cell_type": "code",
   "execution_count": 5,
   "id": "d69a185a",
   "metadata": {},
   "outputs": [],
   "source": [
    "train = tree.DecisionTreeClassifier()\n",
    "train = train.fit(x,y)"
   ]
  },
  {
   "cell_type": "markdown",
   "id": "783a8d4d",
   "metadata": {},
   "source": [
    "# Aşağıda soruları ekle ve gerekli parametreleri gir"
   ]
  },
  {
   "cell_type": "markdown",
   "id": "901b6c18",
   "metadata": {},
   "source": [
    "tablodaki sütunların sıralamasına göre soruları yazın"
   ]
  },
  {
   "cell_type": "code",
   "execution_count": 7,
   "id": "07d00e2d",
   "metadata": {},
   "outputs": [
    {
     "name": "stdout",
     "output_type": "stream",
     "text": [
      "Kac yil deneyiminiz var?: 5\n",
      "Suan calisiyor musunuz? (0-Hayir, 1-Evet): 1\n",
      "Onceden kac firmada calistiniz?: 5\n",
      "Egitim seviyeniz nedir? (0-Lisans, 1-Yuksek Lisans, 2-Master): 1\n",
      "En iyi 10 universiteden birinde mi okudunuz? (0-Hayir, 1-Evet): 1\n",
      "Stajinizi bizde mi yaptiniz? (0-Hayir, 1-Evet): 1\n",
      "Ise alindi\n"
     ]
    },
    {
     "name": "stderr",
     "output_type": "stream",
     "text": [
      "C:\\Users\\aliyi\\anaconda3\\lib\\site-packages\\sklearn\\base.py:450: UserWarning: X does not have valid feature names, but DecisionTreeClassifier was fitted with feature names\n",
      "  warnings.warn(\n"
     ]
    }
   ],
   "source": [
    "a = int(input(\"Soru1?: \"))\n",
    "b = int(input(\"Soru2: \"))\n",
    "c = int(input(\"Soru3 \"))\n",
    "d = int(input(\"Soru4 \"))\n",
    "e = int(input(\"Soru5 \"))\n",
    "f = int(input(\"Soru6\"))\n",
    "\n",
    "m = train.predict([[a, b, c, d, e, f]])\n",
    "\n",
    "if m[0] == 1:\n",
    "    print(\"Olumlu ise olacak koşul\")\n",
    "else:\n",
    "    print(\"Kriterleri karsilamadi.\")"
   ]
  },
  {
   "cell_type": "code",
   "execution_count": null,
   "id": "54663f73",
   "metadata": {},
   "outputs": [],
   "source": []
  }
 ],
 "metadata": {
  "kernelspec": {
   "display_name": "Python 3 (ipykernel)",
   "language": "python",
   "name": "python3"
  },
  "language_info": {
   "codemirror_mode": {
    "name": "ipython",
    "version": 3
   },
   "file_extension": ".py",
   "mimetype": "text/x-python",
   "name": "python",
   "nbconvert_exporter": "python",
   "pygments_lexer": "ipython3",
   "version": "3.9.16"
  }
 },
 "nbformat": 4,
 "nbformat_minor": 5
}
